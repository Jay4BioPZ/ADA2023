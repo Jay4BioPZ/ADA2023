{
 "cells": [
  {
   "cell_type": "markdown",
   "metadata": {},
   "source": [
    "# Good coding practice implementation"
   ]
  },
  {
   "cell_type": "code",
   "execution_count": 2,
   "metadata": {},
   "outputs": [],
   "source": [
    "import collections\n",
    "# Collections can be used to create a dictionary with a default value\n",
    "\n",
    "# Initialize a dictionary with a empty list as default value\n",
    "todo_list = collections.defaultdict(list)\n",
    "todo_list['ADA'].append('Homework1')\n",
    "\n",
    "# Initialize with default value 0\n",
    "counter = collections.Counter()\n",
    "counter['apple'] += 1\n",
    "counter['orange'] += 1"
   ]
  },
  {
   "cell_type": "code",
   "execution_count": 2,
   "metadata": {},
   "outputs": [
    {
     "name": "stderr",
     "output_type": "stream",
     "text": [
      "usage: ipykernel_launcher.py [-h] [--filename FILENAME]\n",
      "ipykernel_launcher.py: error: unrecognized arguments: --ip=127.0.0.1 --stdin=9003 --control=9001 --hb=9000 --Session.signature_scheme=\"hmac-sha256\" --Session.key=b\"a9f84503-4440-4e66-9fa1-22fd0cfd1925\" --shell=9002 --transport=\"tcp\" --iopub=9004\n"
     ]
    },
    {
     "ename": "SystemExit",
     "evalue": "2",
     "output_type": "error",
     "traceback": [
      "An exception has occurred, use %tb to see the full traceback.\n",
      "\u001b[1;31mSystemExit\u001b[0m\u001b[1;31m:\u001b[0m 2\n"
     ]
    }
   ],
   "source": [
    "from argparse import ArgumentParser\n",
    "# ArgumentParser can be used to parse command line arguments\n",
    "\n",
    "parser = ArgumentParser()\n",
    "parser.add_argument('--filename', help='The path to the file to be read', type=str)\n",
    "args = parser.parse_args()\n",
    "\n",
    "print(args.filename)"
   ]
  },
  {
   "cell_type": "code",
   "execution_count": null,
   "metadata": {},
   "outputs": [],
   "source": []
  }
 ],
 "metadata": {
  "kernelspec": {
   "display_name": "ada",
   "language": "python",
   "name": "python3"
  },
  "language_info": {
   "codemirror_mode": {
    "name": "ipython",
    "version": 3
   },
   "file_extension": ".py",
   "mimetype": "text/x-python",
   "name": "python",
   "nbconvert_exporter": "python",
   "pygments_lexer": "ipython3",
   "version": "3.9.18"
  },
  "orig_nbformat": 4
 },
 "nbformat": 4,
 "nbformat_minor": 2
}
